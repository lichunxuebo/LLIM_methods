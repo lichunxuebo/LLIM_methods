{
  "nbformat": 4,
  "nbformat_minor": 0,
  "metadata": {
    "colab": {
      "name": "直方图均衡化.ipynb",
      "provenance": [],
      "collapsed_sections": [],
      "authorship_tag": "ABX9TyMP7MORe06Q79qIKKd/wf7E",
      "include_colab_link": true
    },
    "kernelspec": {
      "name": "python3",
      "display_name": "Python 3"
    },
    "language_info": {
      "name": "python"
    }
  },
  "cells": [
    {
      "cell_type": "markdown",
      "metadata": {
        "id": "view-in-github",
        "colab_type": "text"
      },
      "source": [
        "<a href=\"https://colab.research.google.com/github/lichunxuebo/LLIM_methods/blob/main/%E7%9B%B4%E6%96%B9%E5%9B%BE%E5%9D%87%E8%A1%A1%E5%8C%96.ipynb\" target=\"_parent\"><img src=\"https://colab.research.google.com/assets/colab-badge.svg\" alt=\"Open In Colab\"/></a>"
      ]
    },
    {
      "cell_type": "code",
      "metadata": {
        "id": "uQnbAJaZFftW"
      },
      "source": [
        "#coding=utf-8\n",
        "import cv2\n",
        "import numpy as np\n",
        "# cv2.imshow(img) 使内核崩溃\n",
        "# 当使用的是 google colab，则可以使用此解决方案：\n",
        "# from google.colab.patches import cv2_imshow\n",
        "# cv2_imshow(img)\n",
        "from google.colab.patches import cv2_imshow\n",
        " \n",
        "image = cv2.imread(\"Jimmy.jpg\", 0)\n",
        "lut = np.zeros(256, dtype = image.dtype )#创建空的查找表\n",
        "hist = cv2.calcHist([image], #计算图像的直方图\n",
        "  [0], #使用的通道，即处理整幅图像\n",
        "  None, #没有使用mask\n",
        "  [256], #it is a 1D histogram,它是一维直方图\n",
        "  [0.0,255.0]) #像素值的范围[0,255]\n",
        "#hist是一个shape为(256,1)的数组，表示0-255每个像素值对应的像素个数，下标即为相应的像素值\n",
        "\n",
        "minBinNo, maxBinNo = 0, 255\n",
        " \n",
        "#计算从左起第一个不为0的直方图柱的位置\n",
        "for binNo, binValue in enumerate(hist):\n",
        "  if binValue != 0:\n",
        "\t  minBinNo = binNo\n",
        "\t  break\n",
        "#计算从右起第一个不为0的直方图柱的位置\n",
        "\n",
        "for binNo, binValue in enumerate(reversed(hist)):\n",
        "  if binValue != 0:\n",
        "\t  maxBinNo = 255-binNo\n",
        "\t  break\n",
        "print (minBinNo, maxBinNo)\n",
        " \n",
        "#生成查找表，方法来自参考文献1第四章第2节\n",
        "for i,v in enumerate(lut):\n",
        "\tprint (i)\n",
        "\tif i < minBinNo:\n",
        "\t\tlut[i] = 0\n",
        "\telif i > maxBinNo:\n",
        "\t\tlut[i] = 255\n",
        "\telse:\n",
        "\t\tlut[i] = int(255.0*(i-minBinNo)/(maxBinNo-minBinNo)+0.5)\n",
        " \n",
        "#计算\n",
        "result = cv2.LUT(image, lut)\n",
        "cv2_imshow(result)\n",
        "cv2.imwrite(\"Jimmy.jpg\", result)\n",
        "cv2.waitKey(0)\n",
        "cv2.destroyAllWindows()"
      ],
      "execution_count": null,
      "outputs": []
    }
  ]
}